{
 "cells": [
  {
   "cell_type": "code",
   "execution_count": 1,
   "id": "30f3d587",
   "metadata": {},
   "outputs": [],
   "source": [
    "import pandas as pd\n",
    "import numpy as np\n",
    "import matplotlib.pyplot as plt\n",
    "import seaborn as sns\n",
    "from sklearn.model_selection import cross_val_score, StratifiedKFold, GridSearchCV\n",
    "from sklearn.metrics import root_mean_squared_error\n",
    "from sklearn.preprocessing import PolynomialFeatures, StandardScaler, KBinsDiscretizer\n",
    "from sklearn.decomposition import PCA\n",
    "from sklearn.ensemble import RandomForestRegressor, GradientBoostingRegressor\n",
    "from sklearn.linear_model import Ridge, Lasso\n",
    "from sklearn.svm import SVR\n",
    "from sklearn.neighbors import KNeighborsRegressor\n",
    "from sklearn.neural_network import MLPRegressor\n",
    "import os\n",
    "import joblib\n",
    "\n",
    "from src.feature_engineering import *\n",
    "from src.modeling import *\n",
    "\n",
    "import warnings\n",
    "warnings.filterwarnings(\"ignore\")"
   ]
  },
  {
   "cell_type": "code",
   "execution_count": 24,
   "id": "c0954bae",
   "metadata": {},
   "outputs": [],
   "source": [
    "#config\n",
    "DATA_PATH = \"data/\"\n",
    "OUTPUT_PATH = \"output/\"\n",
    "\n",
    "POLY_FEATS_DEGREE = 3 #for polynomial features generation\n",
    "BINNING_N_BINS = 4 #for binning features generation\n",
    "PSI_THRESHOLD = 0.1 #for feature selection\n",
    "GRID_SEARCH_N_SAMPLE = 20000 #number of samples used for grid search\n",
    "CV_SPLITS = 3  #cross-validation n_split\n",
    "PCA_N_COMPONENTS = 0.95 #proportion of variance to retain after applying PCA\n",
    "N_BEST_MODELS = 5 #select the top n best model during grid search to train with whole train data"
   ]
  },
  {
   "cell_type": "code",
   "execution_count": 3,
   "id": "81556f77",
   "metadata": {},
   "outputs": [
    {
     "name": "stdout",
     "output_type": "stream",
     "text": [
      "(524164, 11)\n"
     ]
    },
    {
     "data": {
      "text/html": [
       "<div>\n",
       "<style scoped>\n",
       "    .dataframe tbody tr th:only-of-type {\n",
       "        vertical-align: middle;\n",
       "    }\n",
       "\n",
       "    .dataframe tbody tr th {\n",
       "        vertical-align: top;\n",
       "    }\n",
       "\n",
       "    .dataframe thead th {\n",
       "        text-align: right;\n",
       "    }\n",
       "</style>\n",
       "<table border=\"1\" class=\"dataframe\">\n",
       "  <thead>\n",
       "    <tr style=\"text-align: right;\">\n",
       "      <th></th>\n",
       "      <th>id</th>\n",
       "      <th>RhythmScore</th>\n",
       "      <th>AudioLoudness</th>\n",
       "      <th>VocalContent</th>\n",
       "      <th>AcousticQuality</th>\n",
       "      <th>InstrumentalScore</th>\n",
       "      <th>LivePerformanceLikelihood</th>\n",
       "      <th>MoodScore</th>\n",
       "      <th>TrackDurationMs</th>\n",
       "      <th>Energy</th>\n",
       "      <th>BeatsPerMinute</th>\n",
       "    </tr>\n",
       "  </thead>\n",
       "  <tbody>\n",
       "    <tr>\n",
       "      <th>0</th>\n",
       "      <td>0</td>\n",
       "      <td>0.603610</td>\n",
       "      <td>-7.636942</td>\n",
       "      <td>0.023500</td>\n",
       "      <td>0.000005</td>\n",
       "      <td>0.000001</td>\n",
       "      <td>0.051385</td>\n",
       "      <td>0.409866</td>\n",
       "      <td>290715.6450</td>\n",
       "      <td>0.826267</td>\n",
       "      <td>147.53020</td>\n",
       "    </tr>\n",
       "    <tr>\n",
       "      <th>1</th>\n",
       "      <td>1</td>\n",
       "      <td>0.639451</td>\n",
       "      <td>-16.267598</td>\n",
       "      <td>0.071520</td>\n",
       "      <td>0.444929</td>\n",
       "      <td>0.349414</td>\n",
       "      <td>0.170522</td>\n",
       "      <td>0.651010</td>\n",
       "      <td>164519.5174</td>\n",
       "      <td>0.145400</td>\n",
       "      <td>136.15963</td>\n",
       "    </tr>\n",
       "    <tr>\n",
       "      <th>2</th>\n",
       "      <td>2</td>\n",
       "      <td>0.514538</td>\n",
       "      <td>-15.953575</td>\n",
       "      <td>0.110715</td>\n",
       "      <td>0.173699</td>\n",
       "      <td>0.453814</td>\n",
       "      <td>0.029576</td>\n",
       "      <td>0.423865</td>\n",
       "      <td>174495.5667</td>\n",
       "      <td>0.624667</td>\n",
       "      <td>55.31989</td>\n",
       "    </tr>\n",
       "  </tbody>\n",
       "</table>\n",
       "</div>"
      ],
      "text/plain": [
       "   id  RhythmScore  AudioLoudness  VocalContent  AcousticQuality  \\\n",
       "0   0     0.603610      -7.636942      0.023500         0.000005   \n",
       "1   1     0.639451     -16.267598      0.071520         0.444929   \n",
       "2   2     0.514538     -15.953575      0.110715         0.173699   \n",
       "\n",
       "   InstrumentalScore  LivePerformanceLikelihood  MoodScore  TrackDurationMs  \\\n",
       "0           0.000001                   0.051385   0.409866      290715.6450   \n",
       "1           0.349414                   0.170522   0.651010      164519.5174   \n",
       "2           0.453814                   0.029576   0.423865      174495.5667   \n",
       "\n",
       "     Energy  BeatsPerMinute  \n",
       "0  0.826267       147.53020  \n",
       "1  0.145400       136.15963  \n",
       "2  0.624667        55.31989  "
      ]
     },
     "execution_count": 3,
     "metadata": {},
     "output_type": "execute_result"
    }
   ],
   "source": [
    "df_train = pd.read_csv(DATA_PATH + \"train.csv\")\n",
    "print(df_train.shape)\n",
    "df_train.head(3)"
   ]
  },
  {
   "cell_type": "code",
   "execution_count": 4,
   "id": "4c5069d0",
   "metadata": {},
   "outputs": [
    {
     "name": "stdout",
     "output_type": "stream",
     "text": [
      "(174722, 10)\n"
     ]
    },
    {
     "data": {
      "text/html": [
       "<div>\n",
       "<style scoped>\n",
       "    .dataframe tbody tr th:only-of-type {\n",
       "        vertical-align: middle;\n",
       "    }\n",
       "\n",
       "    .dataframe tbody tr th {\n",
       "        vertical-align: top;\n",
       "    }\n",
       "\n",
       "    .dataframe thead th {\n",
       "        text-align: right;\n",
       "    }\n",
       "</style>\n",
       "<table border=\"1\" class=\"dataframe\">\n",
       "  <thead>\n",
       "    <tr style=\"text-align: right;\">\n",
       "      <th></th>\n",
       "      <th>id</th>\n",
       "      <th>RhythmScore</th>\n",
       "      <th>AudioLoudness</th>\n",
       "      <th>VocalContent</th>\n",
       "      <th>AcousticQuality</th>\n",
       "      <th>InstrumentalScore</th>\n",
       "      <th>LivePerformanceLikelihood</th>\n",
       "      <th>MoodScore</th>\n",
       "      <th>TrackDurationMs</th>\n",
       "      <th>Energy</th>\n",
       "    </tr>\n",
       "  </thead>\n",
       "  <tbody>\n",
       "    <tr>\n",
       "      <th>0</th>\n",
       "      <td>524164</td>\n",
       "      <td>0.410013</td>\n",
       "      <td>-16.794967</td>\n",
       "      <td>0.023500</td>\n",
       "      <td>0.232910</td>\n",
       "      <td>0.012689</td>\n",
       "      <td>0.271585</td>\n",
       "      <td>0.664321</td>\n",
       "      <td>302901.5498</td>\n",
       "      <td>0.424867</td>\n",
       "    </tr>\n",
       "    <tr>\n",
       "      <th>1</th>\n",
       "      <td>524165</td>\n",
       "      <td>0.463071</td>\n",
       "      <td>-1.357000</td>\n",
       "      <td>0.141818</td>\n",
       "      <td>0.057725</td>\n",
       "      <td>0.257942</td>\n",
       "      <td>0.097624</td>\n",
       "      <td>0.829552</td>\n",
       "      <td>221995.6643</td>\n",
       "      <td>0.846000</td>\n",
       "    </tr>\n",
       "    <tr>\n",
       "      <th>2</th>\n",
       "      <td>524166</td>\n",
       "      <td>0.686569</td>\n",
       "      <td>-3.368928</td>\n",
       "      <td>0.167851</td>\n",
       "      <td>0.287823</td>\n",
       "      <td>0.210915</td>\n",
       "      <td>0.325909</td>\n",
       "      <td>0.304978</td>\n",
       "      <td>357724.0127</td>\n",
       "      <td>0.134067</td>\n",
       "    </tr>\n",
       "  </tbody>\n",
       "</table>\n",
       "</div>"
      ],
      "text/plain": [
       "       id  RhythmScore  AudioLoudness  VocalContent  AcousticQuality  \\\n",
       "0  524164     0.410013     -16.794967      0.023500         0.232910   \n",
       "1  524165     0.463071      -1.357000      0.141818         0.057725   \n",
       "2  524166     0.686569      -3.368928      0.167851         0.287823   \n",
       "\n",
       "   InstrumentalScore  LivePerformanceLikelihood  MoodScore  TrackDurationMs  \\\n",
       "0           0.012689                   0.271585   0.664321      302901.5498   \n",
       "1           0.257942                   0.097624   0.829552      221995.6643   \n",
       "2           0.210915                   0.325909   0.304978      357724.0127   \n",
       "\n",
       "     Energy  \n",
       "0  0.424867  \n",
       "1  0.846000  \n",
       "2  0.134067  "
      ]
     },
     "execution_count": 4,
     "metadata": {},
     "output_type": "execute_result"
    }
   ],
   "source": [
    "df_test = pd.read_csv(DATA_PATH + \"test.csv\")\n",
    "print(df_test.shape)\n",
    "df_test.head(3)"
   ]
  },
  {
   "cell_type": "code",
   "execution_count": 5,
   "id": "738b97ee",
   "metadata": {},
   "outputs": [
    {
     "data": {
      "text/plain": [
       "['RhythmScore',\n",
       " 'AudioLoudness',\n",
       " 'VocalContent',\n",
       " 'AcousticQuality',\n",
       " 'InstrumentalScore',\n",
       " 'LivePerformanceLikelihood',\n",
       " 'MoodScore',\n",
       " 'TrackDurationMs',\n",
       " 'Energy']"
      ]
     },
     "execution_count": 5,
     "metadata": {},
     "output_type": "execute_result"
    }
   ],
   "source": [
    "feature_cols = [c for c in df_train.columns if c not in ('id', 'BeatsPerMinute')]\n",
    "feature_cols"
   ]
  },
  {
   "cell_type": "code",
   "execution_count": 6,
   "id": "974394ae",
   "metadata": {},
   "outputs": [],
   "source": [
    "label_col = 'BeatsPerMinute'"
   ]
  },
  {
   "cell_type": "markdown",
   "id": "ee867689",
   "metadata": {},
   "source": [
    "### Feature Generation and Selection"
   ]
  },
  {
   "cell_type": "code",
   "execution_count": 7,
   "id": "51fec9f7",
   "metadata": {},
   "outputs": [
    {
     "name": "stdout",
     "output_type": "stream",
     "text": [
      "df_train polynomial features shape : (524164, 210)\n",
      "df_test polynomial features shape : (174722, 210)\n"
     ]
    }
   ],
   "source": [
    "#generate polynomial features\n",
    "poly = PolynomialFeatures(degree=POLY_FEATS_DEGREE, interaction_only=False, include_bias=False)\n",
    "poly.fit(df_train[feature_cols])\n",
    "\n",
    "df_train_poly_feats = pd.DataFrame(\n",
    "    poly.transform(df_train[feature_cols]),\n",
    "    columns = poly.get_feature_names_out()\n",
    ")\n",
    "df_train_poly_feats = df_train_poly_feats[[c for c in df_train_poly_feats if c not in feature_cols]] #exclude the original features\n",
    "print(f\"df_train polynomial features shape : {df_train_poly_feats.shape}\")\n",
    "\n",
    "df_test_poly_feats = pd.DataFrame(\n",
    "    poly.transform(df_test[feature_cols]),\n",
    "    columns = poly.get_feature_names_out()\n",
    ")\n",
    "df_test_poly_feats = df_test_poly_feats[[c for c in df_test_poly_feats if c not in feature_cols]] #exclude the original features\n",
    "print(f\"df_test polynomial features shape : {df_test_poly_feats.shape}\")"
   ]
  },
  {
   "cell_type": "code",
   "execution_count": 8,
   "id": "e2d1d89d",
   "metadata": {},
   "outputs": [
    {
     "name": "stdout",
     "output_type": "stream",
     "text": [
      "df_train binning features shape : (524164, 9)\n",
      "df_test binning features shape : (174722, 9)\n"
     ]
    }
   ],
   "source": [
    "#generate binning features\n",
    "binning = KBinsDiscretizer(n_bins=BINNING_N_BINS, encode=\"ordinal\", strategy=\"quantile\", quantile_method=\"linear\")\n",
    "binning.fit(df_train[feature_cols])\n",
    "\n",
    "df_train_binning_feats = pd.DataFrame(\n",
    "    binning.transform(df_train[feature_cols]),\n",
    "    columns = binning.get_feature_names_out() + \"_binned\"\n",
    ")\n",
    "print(f\"df_train binning features shape : {df_train_binning_feats.shape}\")\n",
    "\n",
    "df_test_binning_feats = pd.DataFrame(\n",
    "    binning.transform(df_test[feature_cols]),\n",
    "    columns = binning.get_feature_names_out() + \"_binned\"\n",
    ")\n",
    "print(f\"df_test binning features shape : {df_test_binning_feats.shape}\")"
   ]
  },
  {
   "cell_type": "code",
   "execution_count": 9,
   "id": "bc774a37",
   "metadata": {},
   "outputs": [
    {
     "name": "stdout",
     "output_type": "stream",
     "text": [
      "df_train_combined shape : (524164, 230)\n",
      "df_test_combined shape : (174722, 229)\n"
     ]
    }
   ],
   "source": [
    "#combine all of the features\n",
    "df_train_combined = pd.concat([\n",
    "    df_train, df_train_poly_feats, df_train_binning_feats\n",
    "], axis=1)\n",
    "assert len(df_train_combined.columns)==len(set(df_train_combined.columns)) #make sure no duplicate columns\n",
    "print(f\"df_train_combined shape : {df_train_combined.shape}\")\n",
    "\n",
    "df_test_combined = pd.concat([\n",
    "    df_test, df_test_poly_feats, df_test_binning_feats\n",
    "], axis=1)\n",
    "assert len(df_test_combined.columns)==len(set(df_test_combined.columns)) #make sure no duplicate columns\n",
    "print(f\"df_test_combined shape : {df_test_combined.shape}\")"
   ]
  },
  {
   "cell_type": "code",
   "execution_count": 10,
   "id": "43233d37",
   "metadata": {},
   "outputs": [
    {
     "data": {
      "text/html": [
       "<div>\n",
       "<style scoped>\n",
       "    .dataframe tbody tr th:only-of-type {\n",
       "        vertical-align: middle;\n",
       "    }\n",
       "\n",
       "    .dataframe tbody tr th {\n",
       "        vertical-align: top;\n",
       "    }\n",
       "\n",
       "    .dataframe thead th {\n",
       "        text-align: right;\n",
       "    }\n",
       "</style>\n",
       "<table border=\"1\" class=\"dataframe\">\n",
       "  <thead>\n",
       "    <tr style=\"text-align: right;\">\n",
       "      <th></th>\n",
       "      <th>psi</th>\n",
       "    </tr>\n",
       "  </thead>\n",
       "  <tbody>\n",
       "    <tr>\n",
       "      <th>RhythmScore AudioLoudness InstrumentalScore</th>\n",
       "      <td>0.000188</td>\n",
       "    </tr>\n",
       "    <tr>\n",
       "      <th>AudioLoudness MoodScore Energy</th>\n",
       "      <td>0.000184</td>\n",
       "    </tr>\n",
       "    <tr>\n",
       "      <th>RhythmScore VocalContent LivePerformanceLikelihood</th>\n",
       "      <td>0.000144</td>\n",
       "    </tr>\n",
       "    <tr>\n",
       "      <th>VocalContent Energy^2</th>\n",
       "      <td>0.000143</td>\n",
       "    </tr>\n",
       "    <tr>\n",
       "      <th>RhythmScore MoodScore^2</th>\n",
       "      <td>0.000142</td>\n",
       "    </tr>\n",
       "  </tbody>\n",
       "</table>\n",
       "</div>"
      ],
      "text/plain": [
       "                                                         psi\n",
       "RhythmScore AudioLoudness InstrumentalScore         0.000188\n",
       "AudioLoudness MoodScore Energy                      0.000184\n",
       "RhythmScore VocalContent LivePerformanceLikelihood  0.000144\n",
       "VocalContent Energy^2                               0.000143\n",
       "RhythmScore MoodScore^2                             0.000142"
      ]
     },
     "execution_count": 10,
     "metadata": {},
     "output_type": "execute_result"
    }
   ],
   "source": [
    "#feature selection with PSI check\n",
    "#to check the stability of the features between train and test\n",
    "#filter out features with extreme shifts in distribution\n",
    "psi_dict = {}\n",
    "for c in df_train_combined.columns:\n",
    "    if c in ('id', label_col):\n",
    "        continue\n",
    "    \n",
    "    psi = calculate_psi(df_train_combined[c], df_test_combined[c])\n",
    "    psi_dict[c] = psi\n",
    "df_psi = pd.DataFrame([psi_dict]).T\n",
    "df_psi.columns = ['psi']\n",
    "df_psi = df_psi.sort_values('psi', ascending=False)\n",
    "df_psi.head()"
   ]
  },
  {
   "cell_type": "code",
   "execution_count": 11,
   "id": "7e37abbc",
   "metadata": {},
   "outputs": [
    {
     "data": {
      "text/plain": [
       "0"
      ]
     },
     "execution_count": 11,
     "metadata": {},
     "output_type": "execute_result"
    }
   ],
   "source": [
    "high_psi_feats = df_psi.loc[df_psi['psi']>PSI_THRESHOLD].index.tolist()\n",
    "len(high_psi_feats)\n",
    "#no features with high psi, so no filtering needed"
   ]
  },
  {
   "cell_type": "markdown",
   "id": "1539bd48",
   "metadata": {},
   "source": [
    "### Experiments"
   ]
  },
  {
   "cell_type": "code",
   "execution_count": 12,
   "id": "d6902c02",
   "metadata": {},
   "outputs": [],
   "source": [
    "##split train dataset using cross-validation\n",
    "# cv = StratifiedKFold(n_splits=CV_SPLITS, shuffle=True, random_state=1)"
   ]
  },
  {
   "cell_type": "code",
   "execution_count": 13,
   "id": "2bf62629",
   "metadata": {},
   "outputs": [],
   "source": [
    "if not os.path.exists(OUTPUT_PATH):\n",
    "    os.makedirs(OUTPUT_PATH)"
   ]
  },
  {
   "cell_type": "code",
   "execution_count": null,
   "id": "14b19455",
   "metadata": {},
   "outputs": [],
   "source": [
    "#define the models and parameters \n",
    "models_and_params = {\n",
    "    \"knn\": (KNeighborsRegressor(), {\"model__n_neighbors\": [3, 5, 10]}),\n",
    "    \"ridge\": (Ridge(), {\"model__alpha\": [0.01, 0.1, 1, 10]}),\n",
    "    \"lasso\": (Lasso(), {\"model__alpha\": [0.01, 0.1, 1, 10]}),\n",
    "    \"rf\": (RandomForestRegressor(), {\"model__n_estimators\": [100, 200],\n",
    "                                     \"model__max_depth\": [None, 10]}),\n",
    "    \"gbr\": (GradientBoostingRegressor(), {\"model__n_estimators\": [100, 200],\n",
    "                                          \"model__learning_rate\": [0.05, 0.1],\n",
    "                                          \"model__max_depth\": [3, 5]}),\n",
    "    # \"svr\": (SVR(), {\"model__kernel\": [\"linear\", \"rbf\"], \"model__C\": [0.1, 1, 10]}),\n",
    "}"
   ]
  },
  {
   "cell_type": "code",
   "execution_count": 15,
   "id": "7e436fa1",
   "metadata": {},
   "outputs": [
    {
     "name": "stdout",
     "output_type": "stream",
     "text": [
      "X shape : (20000, 228)\n",
      "y shape : (20000,)\n"
     ]
    }
   ],
   "source": [
    "df_train_sample = df_train_combined.sample(n=GRID_SEARCH_N_SAMPLE)\n",
    "X = df_train_sample[[c for c in df_train_sample.columns if c not in ('id', label_col)]]\n",
    "y = df_train_sample[label_col]\n",
    "\n",
    "# X = X[:100] #for testing\n",
    "# y = y[:100] #for testing\n",
    "\n",
    "print(f\"X shape : {X.shape}\")\n",
    "print(f\"y shape : {y.shape}\")"
   ]
  },
  {
   "cell_type": "code",
   "execution_count": null,
   "id": "092e2669",
   "metadata": {},
   "outputs": [
    {
     "name": "stdout",
     "output_type": "stream",
     "text": [
      "rf_pca best estimator RMSE : 26.63605436316777\n",
      "gbr_pca best estimator RMSE : 26.61778898386265\n"
     ]
    }
   ],
   "source": [
    "best_models = {}\n",
    "\n",
    "for name, (model, params) in models_and_params.items():\n",
    "    for method in ['original', 'outlier_removal', 'standardization', 'pca']:\n",
    "    # for method in ['pca']:\n",
    "        steps = []\n",
    "        \n",
    "        if method=='original':\n",
    "            pass\n",
    "\n",
    "        elif method=='outlier_removal':\n",
    "            steps.append(('outlier_removal', OutlierRemoval()))\n",
    "        \n",
    "        elif method=='standardization':\n",
    "            steps.append(('standardization', StandardScaler()))        \n",
    "\n",
    "        elif method=='pca':\n",
    "            steps.append(('pca', PCA(n_components=PCA_N_COMPONENTS)))\n",
    "\n",
    "        steps.append((\"model\", model))\n",
    "        pipe = Pipeline(steps)\n",
    "\n",
    "        grid = GridSearchCV(pipe, params, cv=CV_SPLITS, scoring=\"neg_mean_squared_error\")\n",
    "        grid.fit(X.copy(), y.copy())\n",
    "        \n",
    "        best_rmse = (-grid.best_score_)**0.5\n",
    "        best_models[f\"{name}_{method}\"] = [grid.best_estimator_, best_rmse] #best model and RMSE\n",
    "        print(f\"{name}_{method} best estimator RMSE : {best_rmse}\")\n",
    "        #save best estimator to output folder\n",
    "        joblib.dump(grid.best_estimator_, OUTPUT_PATH + f\"02_modeling__grid_search_{name}_{method}.joblib\")"
   ]
  },
  {
   "cell_type": "code",
   "execution_count": 19,
   "id": "c3ec5b8f",
   "metadata": {},
   "outputs": [
    {
     "data": {
      "text/html": [
       "<div>\n",
       "<style scoped>\n",
       "    .dataframe tbody tr th:only-of-type {\n",
       "        vertical-align: middle;\n",
       "    }\n",
       "\n",
       "    .dataframe tbody tr th {\n",
       "        vertical-align: top;\n",
       "    }\n",
       "\n",
       "    .dataframe thead th {\n",
       "        text-align: right;\n",
       "    }\n",
       "</style>\n",
       "<table border=\"1\" class=\"dataframe\">\n",
       "  <thead>\n",
       "    <tr style=\"text-align: right;\">\n",
       "      <th></th>\n",
       "      <th>best_estimator</th>\n",
       "      <th>rmse</th>\n",
       "    </tr>\n",
       "  </thead>\n",
       "  <tbody>\n",
       "    <tr>\n",
       "      <th>lasso_standardization</th>\n",
       "      <td>(StandardScaler(), Lasso(alpha=1))</td>\n",
       "      <td>26.574791</td>\n",
       "    </tr>\n",
       "    <tr>\n",
       "      <th>ridge_pca</th>\n",
       "      <td>(PCA(n_components=0.95), Ridge(alpha=0.01))</td>\n",
       "      <td>26.57604</td>\n",
       "    </tr>\n",
       "    <tr>\n",
       "      <th>lasso_pca</th>\n",
       "      <td>(PCA(n_components=0.95), Lasso(alpha=0.01))</td>\n",
       "      <td>26.57604</td>\n",
       "    </tr>\n",
       "    <tr>\n",
       "      <th>lasso_outlier_removal</th>\n",
       "      <td>(OutlierRemoval(), Lasso(alpha=10))</td>\n",
       "      <td>26.615761</td>\n",
       "    </tr>\n",
       "    <tr>\n",
       "      <th>gbr_pca</th>\n",
       "      <td>(PCA(n_components=0.95), ([DecisionTreeRegress...</td>\n",
       "      <td>26.617789</td>\n",
       "    </tr>\n",
       "    <tr>\n",
       "      <th>rf_original</th>\n",
       "      <td>((DecisionTreeRegressor(max_depth=10, max_feat...</td>\n",
       "      <td>26.622235</td>\n",
       "    </tr>\n",
       "    <tr>\n",
       "      <th>lasso_original</th>\n",
       "      <td>(Lasso(alpha=10))</td>\n",
       "      <td>26.624076</td>\n",
       "    </tr>\n",
       "    <tr>\n",
       "      <th>rf_pca</th>\n",
       "      <td>(PCA(n_components=0.95), (DecisionTreeRegresso...</td>\n",
       "      <td>26.636054</td>\n",
       "    </tr>\n",
       "    <tr>\n",
       "      <th>ridge_outlier_removal</th>\n",
       "      <td>(OutlierRemoval(), Ridge(alpha=10))</td>\n",
       "      <td>26.68623</td>\n",
       "    </tr>\n",
       "    <tr>\n",
       "      <th>ridge_original</th>\n",
       "      <td>(Ridge(alpha=10))</td>\n",
       "      <td>26.699151</td>\n",
       "    </tr>\n",
       "    <tr>\n",
       "      <th>ridge_standardization</th>\n",
       "      <td>(StandardScaler(), Ridge(alpha=10))</td>\n",
       "      <td>26.774587</td>\n",
       "    </tr>\n",
       "    <tr>\n",
       "      <th>knn_outlier_removal</th>\n",
       "      <td>(OutlierRemoval(), KNeighborsRegressor(n_neigh...</td>\n",
       "      <td>27.750928</td>\n",
       "    </tr>\n",
       "    <tr>\n",
       "      <th>knn_pca</th>\n",
       "      <td>(PCA(n_components=0.95), KNeighborsRegressor(n...</td>\n",
       "      <td>27.762853</td>\n",
       "    </tr>\n",
       "    <tr>\n",
       "      <th>knn_original</th>\n",
       "      <td>(KNeighborsRegressor(n_neighbors=10))</td>\n",
       "      <td>27.773354</td>\n",
       "    </tr>\n",
       "    <tr>\n",
       "      <th>knn_standardization</th>\n",
       "      <td>(StandardScaler(), KNeighborsRegressor(n_neigh...</td>\n",
       "      <td>27.934021</td>\n",
       "    </tr>\n",
       "  </tbody>\n",
       "</table>\n",
       "</div>"
      ],
      "text/plain": [
       "                                                          best_estimator  \\\n",
       "lasso_standardization                 (StandardScaler(), Lasso(alpha=1))   \n",
       "ridge_pca                    (PCA(n_components=0.95), Ridge(alpha=0.01))   \n",
       "lasso_pca                    (PCA(n_components=0.95), Lasso(alpha=0.01))   \n",
       "lasso_outlier_removal                (OutlierRemoval(), Lasso(alpha=10))   \n",
       "gbr_pca                (PCA(n_components=0.95), ([DecisionTreeRegress...   \n",
       "rf_original            ((DecisionTreeRegressor(max_depth=10, max_feat...   \n",
       "lasso_original                                         (Lasso(alpha=10))   \n",
       "rf_pca                 (PCA(n_components=0.95), (DecisionTreeRegresso...   \n",
       "ridge_outlier_removal                (OutlierRemoval(), Ridge(alpha=10))   \n",
       "ridge_original                                         (Ridge(alpha=10))   \n",
       "ridge_standardization                (StandardScaler(), Ridge(alpha=10))   \n",
       "knn_outlier_removal    (OutlierRemoval(), KNeighborsRegressor(n_neigh...   \n",
       "knn_pca                (PCA(n_components=0.95), KNeighborsRegressor(n...   \n",
       "knn_original                       (KNeighborsRegressor(n_neighbors=10))   \n",
       "knn_standardization    (StandardScaler(), KNeighborsRegressor(n_neigh...   \n",
       "\n",
       "                            rmse  \n",
       "lasso_standardization  26.574791  \n",
       "ridge_pca               26.57604  \n",
       "lasso_pca               26.57604  \n",
       "lasso_outlier_removal  26.615761  \n",
       "gbr_pca                26.617789  \n",
       "rf_original            26.622235  \n",
       "lasso_original         26.624076  \n",
       "rf_pca                 26.636054  \n",
       "ridge_outlier_removal   26.68623  \n",
       "ridge_original         26.699151  \n",
       "ridge_standardization  26.774587  \n",
       "knn_outlier_removal    27.750928  \n",
       "knn_pca                27.762853  \n",
       "knn_original           27.773354  \n",
       "knn_standardization    27.934021  "
      ]
     },
     "execution_count": 19,
     "metadata": {},
     "output_type": "execute_result"
    }
   ],
   "source": [
    "df_best_models = pd.DataFrame(best_models).T\n",
    "df_best_models.columns = ['best_estimator', 'rmse']\n",
    "df_best_models = df_best_models.sort_values('rmse', ascending=True)\n",
    "df_best_models"
   ]
  },
  {
   "cell_type": "code",
   "execution_count": 20,
   "id": "f55c0778",
   "metadata": {},
   "outputs": [],
   "source": [
    "df_best_models.to_csv(OUTPUT_PATH + \"02_modeling__grid_search_result.csv\")"
   ]
  },
  {
   "cell_type": "markdown",
   "id": "4c6d6e68",
   "metadata": {},
   "source": [
    "### Train best models with whole training data and generate test predictions "
   ]
  },
  {
   "cell_type": "code",
   "execution_count": 25,
   "id": "4835dbfd",
   "metadata": {},
   "outputs": [
    {
     "data": {
      "text/html": [
       "<div>\n",
       "<style scoped>\n",
       "    .dataframe tbody tr th:only-of-type {\n",
       "        vertical-align: middle;\n",
       "    }\n",
       "\n",
       "    .dataframe tbody tr th {\n",
       "        vertical-align: top;\n",
       "    }\n",
       "\n",
       "    .dataframe thead th {\n",
       "        text-align: right;\n",
       "    }\n",
       "</style>\n",
       "<table border=\"1\" class=\"dataframe\">\n",
       "  <thead>\n",
       "    <tr style=\"text-align: right;\">\n",
       "      <th></th>\n",
       "      <th>model_name</th>\n",
       "      <th>best_estimator</th>\n",
       "      <th>rmse</th>\n",
       "    </tr>\n",
       "  </thead>\n",
       "  <tbody>\n",
       "    <tr>\n",
       "      <th>0</th>\n",
       "      <td>lasso_standardization</td>\n",
       "      <td>(StandardScaler(), Lasso(alpha=1))</td>\n",
       "      <td>26.574791</td>\n",
       "    </tr>\n",
       "    <tr>\n",
       "      <th>1</th>\n",
       "      <td>ridge_pca</td>\n",
       "      <td>(PCA(n_components=0.95), Ridge(alpha=0.01))</td>\n",
       "      <td>26.57604</td>\n",
       "    </tr>\n",
       "    <tr>\n",
       "      <th>2</th>\n",
       "      <td>lasso_pca</td>\n",
       "      <td>(PCA(n_components=0.95), Lasso(alpha=0.01))</td>\n",
       "      <td>26.57604</td>\n",
       "    </tr>\n",
       "    <tr>\n",
       "      <th>3</th>\n",
       "      <td>lasso_outlier_removal</td>\n",
       "      <td>(OutlierRemoval(), Lasso(alpha=10))</td>\n",
       "      <td>26.615761</td>\n",
       "    </tr>\n",
       "    <tr>\n",
       "      <th>4</th>\n",
       "      <td>gbr_pca</td>\n",
       "      <td>(PCA(n_components=0.95), ([DecisionTreeRegress...</td>\n",
       "      <td>26.617789</td>\n",
       "    </tr>\n",
       "  </tbody>\n",
       "</table>\n",
       "</div>"
      ],
      "text/plain": [
       "              model_name                                     best_estimator  \\\n",
       "0  lasso_standardization                 (StandardScaler(), Lasso(alpha=1))   \n",
       "1              ridge_pca        (PCA(n_components=0.95), Ridge(alpha=0.01))   \n",
       "2              lasso_pca        (PCA(n_components=0.95), Lasso(alpha=0.01))   \n",
       "3  lasso_outlier_removal                (OutlierRemoval(), Lasso(alpha=10))   \n",
       "4                gbr_pca  (PCA(n_components=0.95), ([DecisionTreeRegress...   \n",
       "\n",
       "        rmse  \n",
       "0  26.574791  \n",
       "1   26.57604  \n",
       "2   26.57604  \n",
       "3  26.615761  \n",
       "4  26.617789  "
      ]
     },
     "execution_count": 25,
     "metadata": {},
     "output_type": "execute_result"
    }
   ],
   "source": [
    "df_best_models_filtered = df_best_models.iloc[:N_BEST_MODELS].copy().reset_index().rename(columns={'index':'model_name'})\n",
    "df_best_models_filtered"
   ]
  },
  {
   "cell_type": "code",
   "execution_count": 26,
   "id": "9b594b89",
   "metadata": {},
   "outputs": [],
   "source": [
    "if not os.path.exists(OUTPUT_PATH + \"preds/\"):\n",
    "    os.makedirs(OUTPUT_PATH + \"preds/\")"
   ]
  },
  {
   "cell_type": "code",
   "execution_count": 27,
   "id": "b473bff0",
   "metadata": {},
   "outputs": [],
   "source": [
    "for idx in range(N_BEST_MODELS):\n",
    "    model_name = df_best_models_filtered.loc[idx, 'model_name']\n",
    "    estimator = df_best_models_filtered.loc[idx, 'best_estimator']\n",
    "\n",
    "    estimator.fit(\n",
    "        df_train_combined[[c for c in df_train_combined.columns if c not in ('id', label_col)]],\n",
    "        df_train_combined[label_col]\n",
    "    )\n",
    "    y_test_preds = estimator.predict(df_test_combined[[c for c in df_test_combined.columns if c not in ('id', label_col)]])\n",
    "    \n",
    "    df_preds = df_test_combined[['id']]\n",
    "    df_preds[label_col] = y_test_preds\n",
    "    df_preds.to_csv(OUTPUT_PATH + f\"preds/02_modeling__{model_name}_test_preds.csv\", index=False)"
   ]
  },
  {
   "cell_type": "code",
   "execution_count": null,
   "id": "dd2a1383",
   "metadata": {},
   "outputs": [],
   "source": []
  }
 ],
 "metadata": {
  "kernelspec": {
   "display_name": "kaggle-playground-series-s5e9",
   "language": "python",
   "name": "python3"
  },
  "language_info": {
   "codemirror_mode": {
    "name": "ipython",
    "version": 3
   },
   "file_extension": ".py",
   "mimetype": "text/x-python",
   "name": "python",
   "nbconvert_exporter": "python",
   "pygments_lexer": "ipython3",
   "version": "3.10.18"
  }
 },
 "nbformat": 4,
 "nbformat_minor": 5
}
