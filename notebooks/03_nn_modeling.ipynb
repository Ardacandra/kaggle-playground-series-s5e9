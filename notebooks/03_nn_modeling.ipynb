{
 "cells": [
  {
   "cell_type": "code",
   "execution_count": 1,
   "id": "b589c5ea",
   "metadata": {},
   "outputs": [],
   "source": [
    "import pandas as pd\n",
    "import numpy as np\n",
    "import matplotlib.pyplot as plt\n",
    "import seaborn as sns\n",
    "from sklearn.model_selection import GridSearchCV, train_test_split\n",
    "from sklearn.metrics import root_mean_squared_error\n",
    "import torch\n",
    "import torch.nn as nn\n",
    "import os\n",
    "import joblib\n",
    "from pytorch_tabnet.tab_model import TabNetRegressor\n",
    "\n",
    "from src.nn_modeling import *"
   ]
  },
  {
   "cell_type": "code",
   "execution_count": 2,
   "id": "b60b4850",
   "metadata": {},
   "outputs": [],
   "source": [
    "#config\n",
    "DATA_PATH = \"data/\"\n",
    "OUTPUT_PATH = \"output/\"\n",
    "N_SAMPLE = 160000 #number of samples \n",
    "VAL_FRAC = 0.2\n",
    "\n",
    "EXPERIMENTS_DICT = {\n",
    "    'exp_A' : {\n",
    "        'model_class' : SimpleNNRegressor,\n",
    "        'model_kwargs' : {\n",
    "            \"input_dim\": 9,\n",
    "            \"hidden_sizes\": [64, 64, 32, 32, 16, 8],\n",
    "        },\n",
    "        'learning_rate' : 0.01,\n",
    "        'epochs' : 5,\n",
    "        'batch_size' : 32,\n",
    "        'device' : 'cpu'\n",
    "    },\n",
    "    # 'exp_B' : {\n",
    "    #     'model_class' : SimpleNNRegressor,\n",
    "    #     'model_kwargs' : {\n",
    "    #         \"input_dim\": 9,\n",
    "    #         \"hidden_sizes\": [64, 64, 32, 32, 16, 8],\n",
    "    #     },\n",
    "    #     'learning_rate' : 0.001,\n",
    "    #     'epochs' : 10,\n",
    "    #     'batch_size' : 32,\n",
    "    #     'device' : 'cpu'\n",
    "    # },\n",
    "    # 'exp_C' : {\n",
    "    #     'model_class' : SimpleNNRegressor,\n",
    "    #     'model_kwargs' : {\n",
    "    #         \"input_dim\": 9,\n",
    "    #         \"hidden_sizes\": [128, 64, 64, 32, 32, 16, 8],\n",
    "    #     },\n",
    "    #     'learning_rate' : 0.001,\n",
    "    #     'epochs' : 10,\n",
    "    #     'batch_size' : 32,\n",
    "    #     'device' : 'cpu'\n",
    "    # },\n",
    "    # 'exp_D' : {\n",
    "    #     'model_class' : SimpleNNRegressor,\n",
    "    #     'model_kwargs' : {\n",
    "    #         \"input_dim\": 9,\n",
    "    #         \"hidden_sizes\": [128, 128, 64, 64, 32, 32, 16, 16, 8, 8],\n",
    "    #     },\n",
    "    #     'learning_rate' : 0.001,\n",
    "    #     'epochs' : 10,\n",
    "    #     'batch_size' : 32,\n",
    "    #     'device' : 'cpu'\n",
    "    # },\n",
    "    'exp_E' : {\n",
    "        'model_class' : WideAndDeep,\n",
    "        'model_kwargs' : {\n",
    "            \"input_dim\": 9,\n",
    "            \"hidden_sizes\": [64, 32],\n",
    "        },\n",
    "        'learning_rate' : 0.001,\n",
    "        'epochs' : 10,\n",
    "        'batch_size' : 16,\n",
    "        'device' : 'cpu'        \n",
    "    }\n",
    "}"
   ]
  },
  {
   "cell_type": "code",
   "execution_count": 3,
   "id": "bcaed3a1",
   "metadata": {},
   "outputs": [
    {
     "name": "stdout",
     "output_type": "stream",
     "text": [
      "(524164, 11)\n"
     ]
    },
    {
     "data": {
      "text/html": [
       "<div>\n",
       "<style scoped>\n",
       "    .dataframe tbody tr th:only-of-type {\n",
       "        vertical-align: middle;\n",
       "    }\n",
       "\n",
       "    .dataframe tbody tr th {\n",
       "        vertical-align: top;\n",
       "    }\n",
       "\n",
       "    .dataframe thead th {\n",
       "        text-align: right;\n",
       "    }\n",
       "</style>\n",
       "<table border=\"1\" class=\"dataframe\">\n",
       "  <thead>\n",
       "    <tr style=\"text-align: right;\">\n",
       "      <th></th>\n",
       "      <th>id</th>\n",
       "      <th>RhythmScore</th>\n",
       "      <th>AudioLoudness</th>\n",
       "      <th>VocalContent</th>\n",
       "      <th>AcousticQuality</th>\n",
       "      <th>InstrumentalScore</th>\n",
       "      <th>LivePerformanceLikelihood</th>\n",
       "      <th>MoodScore</th>\n",
       "      <th>TrackDurationMs</th>\n",
       "      <th>Energy</th>\n",
       "      <th>BeatsPerMinute</th>\n",
       "    </tr>\n",
       "  </thead>\n",
       "  <tbody>\n",
       "    <tr>\n",
       "      <th>0</th>\n",
       "      <td>0</td>\n",
       "      <td>0.603610</td>\n",
       "      <td>-7.636942</td>\n",
       "      <td>0.023500</td>\n",
       "      <td>0.000005</td>\n",
       "      <td>0.000001</td>\n",
       "      <td>0.051385</td>\n",
       "      <td>0.409866</td>\n",
       "      <td>290715.6450</td>\n",
       "      <td>0.826267</td>\n",
       "      <td>147.53020</td>\n",
       "    </tr>\n",
       "    <tr>\n",
       "      <th>1</th>\n",
       "      <td>1</td>\n",
       "      <td>0.639451</td>\n",
       "      <td>-16.267598</td>\n",
       "      <td>0.071520</td>\n",
       "      <td>0.444929</td>\n",
       "      <td>0.349414</td>\n",
       "      <td>0.170522</td>\n",
       "      <td>0.651010</td>\n",
       "      <td>164519.5174</td>\n",
       "      <td>0.145400</td>\n",
       "      <td>136.15963</td>\n",
       "    </tr>\n",
       "    <tr>\n",
       "      <th>2</th>\n",
       "      <td>2</td>\n",
       "      <td>0.514538</td>\n",
       "      <td>-15.953575</td>\n",
       "      <td>0.110715</td>\n",
       "      <td>0.173699</td>\n",
       "      <td>0.453814</td>\n",
       "      <td>0.029576</td>\n",
       "      <td>0.423865</td>\n",
       "      <td>174495.5667</td>\n",
       "      <td>0.624667</td>\n",
       "      <td>55.31989</td>\n",
       "    </tr>\n",
       "  </tbody>\n",
       "</table>\n",
       "</div>"
      ],
      "text/plain": [
       "   id  RhythmScore  AudioLoudness  VocalContent  AcousticQuality  \\\n",
       "0   0     0.603610      -7.636942      0.023500         0.000005   \n",
       "1   1     0.639451     -16.267598      0.071520         0.444929   \n",
       "2   2     0.514538     -15.953575      0.110715         0.173699   \n",
       "\n",
       "   InstrumentalScore  LivePerformanceLikelihood  MoodScore  TrackDurationMs  \\\n",
       "0           0.000001                   0.051385   0.409866      290715.6450   \n",
       "1           0.349414                   0.170522   0.651010      164519.5174   \n",
       "2           0.453814                   0.029576   0.423865      174495.5667   \n",
       "\n",
       "     Energy  BeatsPerMinute  \n",
       "0  0.826267       147.53020  \n",
       "1  0.145400       136.15963  \n",
       "2  0.624667        55.31989  "
      ]
     },
     "execution_count": 3,
     "metadata": {},
     "output_type": "execute_result"
    }
   ],
   "source": [
    "df_train = pd.read_csv(DATA_PATH + \"train.csv\")\n",
    "print(df_train.shape)\n",
    "df_train.head(3)"
   ]
  },
  {
   "cell_type": "code",
   "execution_count": 4,
   "id": "a1e8ef10",
   "metadata": {},
   "outputs": [
    {
     "name": "stdout",
     "output_type": "stream",
     "text": [
      "(174722, 10)\n"
     ]
    },
    {
     "data": {
      "text/html": [
       "<div>\n",
       "<style scoped>\n",
       "    .dataframe tbody tr th:only-of-type {\n",
       "        vertical-align: middle;\n",
       "    }\n",
       "\n",
       "    .dataframe tbody tr th {\n",
       "        vertical-align: top;\n",
       "    }\n",
       "\n",
       "    .dataframe thead th {\n",
       "        text-align: right;\n",
       "    }\n",
       "</style>\n",
       "<table border=\"1\" class=\"dataframe\">\n",
       "  <thead>\n",
       "    <tr style=\"text-align: right;\">\n",
       "      <th></th>\n",
       "      <th>id</th>\n",
       "      <th>RhythmScore</th>\n",
       "      <th>AudioLoudness</th>\n",
       "      <th>VocalContent</th>\n",
       "      <th>AcousticQuality</th>\n",
       "      <th>InstrumentalScore</th>\n",
       "      <th>LivePerformanceLikelihood</th>\n",
       "      <th>MoodScore</th>\n",
       "      <th>TrackDurationMs</th>\n",
       "      <th>Energy</th>\n",
       "    </tr>\n",
       "  </thead>\n",
       "  <tbody>\n",
       "    <tr>\n",
       "      <th>0</th>\n",
       "      <td>524164</td>\n",
       "      <td>0.410013</td>\n",
       "      <td>-16.794967</td>\n",
       "      <td>0.023500</td>\n",
       "      <td>0.232910</td>\n",
       "      <td>0.012689</td>\n",
       "      <td>0.271585</td>\n",
       "      <td>0.664321</td>\n",
       "      <td>302901.5498</td>\n",
       "      <td>0.424867</td>\n",
       "    </tr>\n",
       "    <tr>\n",
       "      <th>1</th>\n",
       "      <td>524165</td>\n",
       "      <td>0.463071</td>\n",
       "      <td>-1.357000</td>\n",
       "      <td>0.141818</td>\n",
       "      <td>0.057725</td>\n",
       "      <td>0.257942</td>\n",
       "      <td>0.097624</td>\n",
       "      <td>0.829552</td>\n",
       "      <td>221995.6643</td>\n",
       "      <td>0.846000</td>\n",
       "    </tr>\n",
       "    <tr>\n",
       "      <th>2</th>\n",
       "      <td>524166</td>\n",
       "      <td>0.686569</td>\n",
       "      <td>-3.368928</td>\n",
       "      <td>0.167851</td>\n",
       "      <td>0.287823</td>\n",
       "      <td>0.210915</td>\n",
       "      <td>0.325909</td>\n",
       "      <td>0.304978</td>\n",
       "      <td>357724.0127</td>\n",
       "      <td>0.134067</td>\n",
       "    </tr>\n",
       "  </tbody>\n",
       "</table>\n",
       "</div>"
      ],
      "text/plain": [
       "       id  RhythmScore  AudioLoudness  VocalContent  AcousticQuality  \\\n",
       "0  524164     0.410013     -16.794967      0.023500         0.232910   \n",
       "1  524165     0.463071      -1.357000      0.141818         0.057725   \n",
       "2  524166     0.686569      -3.368928      0.167851         0.287823   \n",
       "\n",
       "   InstrumentalScore  LivePerformanceLikelihood  MoodScore  TrackDurationMs  \\\n",
       "0           0.012689                   0.271585   0.664321      302901.5498   \n",
       "1           0.257942                   0.097624   0.829552      221995.6643   \n",
       "2           0.210915                   0.325909   0.304978      357724.0127   \n",
       "\n",
       "     Energy  \n",
       "0  0.424867  \n",
       "1  0.846000  \n",
       "2  0.134067  "
      ]
     },
     "execution_count": 4,
     "metadata": {},
     "output_type": "execute_result"
    }
   ],
   "source": [
    "df_test = pd.read_csv(DATA_PATH + \"test.csv\")\n",
    "print(df_test.shape)\n",
    "df_test.head(3)"
   ]
  },
  {
   "cell_type": "code",
   "execution_count": 5,
   "id": "95ac1b4e",
   "metadata": {},
   "outputs": [
    {
     "data": {
      "text/plain": [
       "['RhythmScore',\n",
       " 'AudioLoudness',\n",
       " 'VocalContent',\n",
       " 'AcousticQuality',\n",
       " 'InstrumentalScore',\n",
       " 'LivePerformanceLikelihood',\n",
       " 'MoodScore',\n",
       " 'TrackDurationMs',\n",
       " 'Energy']"
      ]
     },
     "execution_count": 5,
     "metadata": {},
     "output_type": "execute_result"
    }
   ],
   "source": [
    "feature_cols = [c for c in df_train.columns if c not in ('id', 'BeatsPerMinute')]\n",
    "feature_cols"
   ]
  },
  {
   "cell_type": "code",
   "execution_count": 6,
   "id": "7f4896c6",
   "metadata": {},
   "outputs": [],
   "source": [
    "label_col = 'BeatsPerMinute'"
   ]
  },
  {
   "cell_type": "markdown",
   "id": "a0ae85a6",
   "metadata": {},
   "source": [
    "### Experiments"
   ]
  },
  {
   "cell_type": "code",
   "execution_count": 7,
   "id": "191a5336",
   "metadata": {},
   "outputs": [],
   "source": [
    "if not os.path.exists(OUTPUT_PATH):\n",
    "    os.makedirs(OUTPUT_PATH)"
   ]
  },
  {
   "cell_type": "code",
   "execution_count": 8,
   "id": "d73c3a60",
   "metadata": {},
   "outputs": [
    {
     "name": "stdout",
     "output_type": "stream",
     "text": [
      "X_train shape : torch.Size([128000, 9])\n",
      "y_train shape : torch.Size([128000])\n",
      "X_val shape : torch.Size([32000, 9])\n",
      "y_val shape : torch.Size([32000])\n"
     ]
    }
   ],
   "source": [
    "df_sample = df_train.sample(n=N_SAMPLE)\n",
    "\n",
    "df_sample_train, df_sample_val = train_test_split(df_sample, test_size=VAL_FRAC, random_state=1)\n",
    "X_train = torch.Tensor(df_sample_train[feature_cols].values)\n",
    "y_train = torch.Tensor(df_sample_train[label_col].values)\n",
    "X_val = torch.Tensor(df_sample_val[feature_cols].values)\n",
    "y_val = torch.Tensor(df_sample_val[label_col].values)\n",
    "\n",
    "print(f\"X_train shape : {X_train.shape}\")\n",
    "print(f\"y_train shape : {y_train.shape}\")\n",
    "print(f\"X_val shape : {X_val.shape}\")\n",
    "print(f\"y_val shape : {y_val.shape}\")"
   ]
  },
  {
   "cell_type": "code",
   "execution_count": 9,
   "id": "f1907626",
   "metadata": {},
   "outputs": [
    {
     "name": "stdout",
     "output_type": "stream",
     "text": [
      "====================================================================================================\n",
      "Experiment ID: exp_A\n",
      "====================================================================================================\n",
      "TorchRegressorWrapper(device='cpu', epochs=5, lr=0.01,\n",
      "                      model_class=<class 'src.nn_modeling.SimpleNNRegressor'>,\n",
      "                      model_kwargs={'hidden_sizes': [64, 64, 32, 32, 16, 8],\n",
      "                                    'input_dim': 9})\n",
      "Model trainable parameter count : 8627\n"
     ]
    },
    {
     "data": {
      "image/png": "[encoded data removed]",
      "text/plain": [
       "<Figure size 600x400 with 1 Axes>"
      ]
     },
     "metadata": {},
     "output_type": "display_data"
    },
    {
     "name": "stdout",
     "output_type": "stream",
     "text": [
      "Train RMSE : 26.543310165405273\n",
      "Validation RMSE : 26.59596824645996\n",
      "====================================================================================================\n",
      "Experiment ID: exp_E\n",
      "====================================================================================================\n",
      "TorchRegressorWrapper(batch_size=16, device='cpu',\n",
      "                      model_class=<class 'src.nn_modeling.WideAndDeep'>,\n",
      "                      model_kwargs={'hidden_sizes': [64, 32], 'input_dim': 9})\n",
      "Model trainable parameter count : 2955\n"
     ]
    },
    {
     "data": {
      "image/png": "[encoded data removed]",
      "text/plain": [
       "<Figure size 600x400 with 1 Axes>"
      ]
     },
     "metadata": {},
     "output_type": "display_data"
    },
    {
     "name": "stdout",
     "output_type": "stream",
     "text": [
      "Train RMSE : 537.504150390625\n",
      "Validation RMSE : 537.4429321289062\n"
     ]
    }
   ],
   "source": [
    "for exp in EXPERIMENTS_DICT.keys():\n",
    "    print(\"=\"*100)\n",
    "    print(f\"Experiment ID: {exp}\")\n",
    "    print(\"=\"*100)\n",
    "\n",
    "    #wrap the PyTorch model\n",
    "    wrapped_model = TorchRegressorWrapper(\n",
    "        model_class=EXPERIMENTS_DICT[exp]['model_class'],\n",
    "        model_kwargs=EXPERIMENTS_DICT[exp]['model_kwargs'],\n",
    "        lr=EXPERIMENTS_DICT[exp]['learning_rate'],\n",
    "        epochs=EXPERIMENTS_DICT[exp]['epochs'],\n",
    "        batch_size=EXPERIMENTS_DICT[exp]['batch_size'],\n",
    "        device=EXPERIMENTS_DICT[exp]['device'],\n",
    "    )\n",
    "    print(wrapped_model)\n",
    "    print(f\"Model trainable parameter count : {sum(p.numel() for p in wrapped_model.get_parameters() if p.requires_grad)}\")\n",
    "\n",
    "    # Train sklearn-style\n",
    "    wrapped_model.fit(X_train, y_train)\n",
    "\n",
    "    # Save\n",
    "    save_path = OUTPUT_PATH + f\"03_nn_modeling__{exp}.joblib\"\n",
    "    joblib.dump(wrapped_model, save_path)\n",
    "\n",
    "    # # Load back\n",
    "    # loaded_model = joblib.load(save_path)\n",
    "\n",
    "    #Training loss history\n",
    "    plt.figure(figsize=(6, 4))\n",
    "    plt.plot(wrapped_model.train_losses, label=\"Train Loss\")\n",
    "    plt.xlabel(\"Epoch\")\n",
    "    plt.ylabel(\"MSE Loss\")\n",
    "    # plt.legend()\n",
    "    plt.title(f\"{exp} Training Loss Curve\")\n",
    "    plt.show()\n",
    "\n",
    "    #evaluate performance on validation set\n",
    "    y_train_preds = wrapped_model.predict(X_train)\n",
    "    print(f\"Train RMSE : {root_mean_squared_error(y_train, y_train_preds)}\")\n",
    "    y_val_preds = wrapped_model.predict(X_val)\n",
    "    print(f\"Validation RMSE : {root_mean_squared_error(y_val, y_val_preds)}\")"
   ]
  },
  {
   "cell_type": "markdown",
   "id": "3dabb174",
   "metadata": {},
   "source": [
    "### Experiments with Other Architectures"
   ]
  },
  {
   "cell_type": "markdown",
   "id": "b699acfc",
   "metadata": {},
   "source": [
    "TabNetRegressor"
   ]
  },
  {
   "cell_type": "code",
   "execution_count": 14,
   "id": "96e56e1f",
   "metadata": {},
   "outputs": [
    {
     "name": "stderr",
     "output_type": "stream",
     "text": [
      "/home/ardacandra/miniconda3/envs/kaggle-playground-series-s5e9/lib/python3.10/site-packages/pytorch_tabnet/abstract_model.py:82: UserWarning: Device used : cpu\n",
      "  warnings.warn(f\"Device used : {self.device}\")\n"
     ]
    },
    {
     "name": "stdout",
     "output_type": "stream",
     "text": [
      "epoch 0  | loss: 12603.21579| val_rmse: 93.37589|  0:00:07s\n",
      "epoch 10 | loss: 706.74699| val_rmse: 26.61189|  0:01:16s\n",
      "epoch 20 | loss: 704.2687| val_rmse: 26.61793|  0:02:29s\n",
      "epoch 30 | loss: 704.26734| val_rmse: 26.63767|  0:03:45s\n",
      "\n",
      "Early stopping occurred at epoch 37 with best_epoch = 17 and best_val_rmse = 26.57258\n"
     ]
    },
    {
     "name": "stderr",
     "output_type": "stream",
     "text": [
      "/home/ardacandra/miniconda3/envs/kaggle-playground-series-s5e9/lib/python3.10/site-packages/pytorch_tabnet/callbacks.py:172: UserWarning: Best weights from best epoch are automatically used!\n",
      "  warnings.warn(wrn_msg)\n"
     ]
    },
    {
     "name": "stdout",
     "output_type": "stream",
     "text": [
      "Train RMSE : 26.510042190551758\n",
      "Validation RMSE : 26.57257843017578\n"
     ]
    }
   ],
   "source": [
    "reg = TabNetRegressor(\n",
    "    n_d=64, n_a=64,        # hidden dimensions\n",
    "    n_steps=5,             # decision steps\n",
    "    gamma=1.5,             # relaxation\n",
    "    n_independent=2, \n",
    "    n_shared=2,\n",
    "    lambda_sparse=1e-4,\n",
    "    clip_value=2.0,\n",
    "    optimizer_fn=torch.optim.Adam,\n",
    "    optimizer_params=dict(lr=2e-3),\n",
    "    scheduler_params={\"step_size\":50, \"gamma\":0.9},\n",
    "    scheduler_fn=torch.optim.lr_scheduler.StepLR,\n",
    "    verbose=10\n",
    ")\n",
    "\n",
    "reg.fit(\n",
    "    X_train.cpu().numpy(), y_train.reshape(-1, 1).cpu().numpy(),\n",
    "    eval_set=[(X_val.cpu().numpy(), y_val.reshape(-1, 1).cpu().numpy())],\n",
    "    eval_name=[\"val\"],\n",
    "    eval_metric=[\"rmse\"],\n",
    "    max_epochs=200,\n",
    "    patience=20,\n",
    "    batch_size=4096,\n",
    "    virtual_batch_size=256  # ghost batch norm\n",
    ")\n",
    "\n",
    "#evaluate performance on validation set\n",
    "y_train_preds = reg.predict(X_train.cpu().numpy())\n",
    "print(f\"Train RMSE : {root_mean_squared_error(y_train.cpu().numpy(), y_train_preds)}\")\n",
    "y_val_preds = reg.predict(X_val.cpu().numpy())\n",
    "print(f\"Validation RMSE : {root_mean_squared_error(y_val.cpu().numpy(), y_val_preds)}\")"
   ]
  },
  {
   "cell_type": "code",
   "execution_count": 24,
   "id": "a4e012e9",
   "metadata": {},
   "outputs": [],
   "source": [
    "#generate test predictions for tabnet\n",
    "X_test = df_test[feature_cols]\n",
    "preds = reg.predict(X_test.values)\n",
    "\n",
    "df_preds = pd.DataFrame({\n",
    "    \"id\": df_test[\"id\"],\n",
    "    label_col: preds[:, 0]\n",
    "})\n",
    "df_preds.to_csv(OUTPUT_PATH + \"preds/03_nn_modeling__tabnetregressor.csv\", index=False)"
   ]
  },
  {
   "cell_type": "code",
   "execution_count": null,
   "id": "5e101086",
   "metadata": {},
   "outputs": [],
   "source": []
  }
 ],
 "metadata": {
  "kernelspec": {
   "display_name": "kaggle-playground-series-s5e9",
   "language": "python",
   "name": "python3"
  },
  "language_info": {
   "codemirror_mode": {
    "name": "ipython",
    "version": 3
   },
   "file_extension": ".py",
   "mimetype": "text/x-python",
   "name": "python",
   "nbconvert_exporter": "python",
   "pygments_lexer": "ipython3",
   "version": "3.10.18"
  }
 },
 "nbformat": 4,
 "nbformat_minor": 5
}
